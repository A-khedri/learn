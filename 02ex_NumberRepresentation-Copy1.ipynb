{
 "cells": [
  {
   "cell_type": "markdown",
   "metadata": {},
   "source": [
    "1\\. Write a function that converts number representation (bin<->dec<->hex)"
   ]
  },
  {
   "cell_type": "code",
   "execution_count": 1,
   "metadata": {},
   "outputs": [
    {
     "name": "stdout",
     "output_type": "stream",
     "text": [
      "1316\n",
      "0b10100100100\n",
      "0b10000\n",
      "0x10\n",
      "2\n",
      "0x2\n"
     ]
    }
   ],
   "source": [
    "def Convert_Fun(nb):\n",
    "    \n",
    "    #binary case\n",
    "    Binary=False\n",
    "    Hexa=False\n",
    "    deci=nb.isdigit()\n",
    "    try:\n",
    "        int(nb,2)\n",
    "        Binary=True\n",
    "    except (ValueError):\n",
    "        Binary=False\n",
    "    \n",
    "    if Binary==True:\n",
    "        decimal=int(nb,2)\n",
    "        print(decimal)\n",
    "        print(hex(decimal))\n",
    "    elif deci==True:\n",
    "        a=int(nb)\n",
    "        print(bin(a))\n",
    "        print(hex(a))\n",
    "    else:\n",
    "        \n",
    "        decimal_h=int(nb,16)\n",
    "        print(decimal_h)\n",
    "        print(bin(decimal_h))\n",
    "a='0x524'\n",
    "Convert_Fun(a)\n",
    "b='16'\n",
    "Convert_Fun(b)\n",
    "c='0010'\n",
    "Convert_Fun(c)"
   ]
  },
  {
   "cell_type": "markdown",
   "metadata": {},
   "source": [
    "2\\. Write a function that converts a 32 bit word into a single precision floating point (i.e. interprets the various bits as sign, mantissa and exponent)"
   ]
  },
  {
   "cell_type": "code",
   "execution_count": 2,
   "metadata": {},
   "outputs": [
    {
     "data": {
      "text/plain": [
       "3.402823669209385e+38"
      ]
     },
     "execution_count": 2,
     "metadata": {},
     "output_type": "execute_result"
    }
   ],
   "source": [
    "def single_pre(word):\n",
    "    sign_bit=word[0]\n",
    "    if sign_bit=='0':\n",
    "        sign='Positive'\n",
    "    else:\n",
    "        sign='Negative'\n",
    "    Exponent=word[1:9]\n",
    "    Exp=int(Exponent,2)\n",
    "    \n",
    "    Mantissa_bits=word[9:32] \n",
    "    Mantissa=1\n",
    "    for i in range(0,len(Mantissa_bits)):\n",
    "        Mantissa=Mantissa+int(Mantissa_bits[i])*pow(2,-i)\n",
    "    \n",
    "    Float_num=(-1)**int(sign_bit) * Mantissa * pow(2,(Exp -127))\n",
    "    \n",
    "    return Float_num\n",
    "    \n",
    "word='01111111100000000000000000000000'\n",
    "single_pre(word)\n",
    "\n",
    "\n",
    "    "
   ]
  },
  {
   "cell_type": "markdown",
   "metadata": {},
   "source": [
    "3\\. Write a program to determine the underflow and overflow limits (within a factor of 2) for python on your computer. \n",
    "\n",
    "**Tips**: define two variables inizialized to 1 and halve/double them enough time to exceed the under/over-flow limits  "
   ]
  },
  {
   "cell_type": "code",
   "execution_count": null,
   "metadata": {
    "collapsed": true
   },
   "outputs": [],
   "source": [
    "def UnOv():\n",
    "    Ov=1\n",
    "    Un=1\n",
    "    Ov_lim=0\n",
    "    Un_lim=0\n",
    "    a=True\n",
    "    \n",
    "    while \n",
    "        Ov=Ov*2\n",
    "        Ov_lim=Ov_lim+1\n",
    "        Un=Un/2\n",
    "        Un_lim=Un_lim+1\n",
    "\n",
    "    \n",
    "    \n",
    "    "
   ]
  },
  {
   "cell_type": "markdown",
   "metadata": {},
   "source": [
    "4\\. Write a program to determine the machine precision\n",
    "\n",
    "**Tips**: define a new variable by adding a smaller and smaller value (proceeding similarly to prob. 2) to an original variable and check the point where the two are the same "
   ]
  },
  {
   "cell_type": "code",
   "execution_count": null,
   "metadata": {
    "collapsed": true
   },
   "outputs": [],
   "source": []
  },
  {
   "cell_type": "markdown",
   "metadata": {},
   "source": [
    "5\\. Write a function that takes in input three parameters $a$, $b$ and $c$ and prints out the two solutions to the quadratic equation $ax^2+bx+c=0$ using the standard formula:\n",
    "$$\n",
    "x=\\frac{-b\\pm\\sqrt{b^2-4ac}}{2a}\n",
    "$$\n",
    "\n",
    "(a) use the program to compute the solution for $a=0.001$, $b=1000$ and $c=0.001$\n",
    "\n",
    "(b) re-express the standard solution formula by multiplying top and bottom by $-b\\mp\\sqrt{b^2-4ac}$ and again find the solution for $a=0.001$, $b=1000$ and $c=0.001$. How does it compare with what previously obtained? Why?\n",
    "\n",
    "(c) write a function that compute the roots of a quadratic equation accurately in all cases"
   ]
  },
  {
   "cell_type": "markdown",
   "metadata": {},
   "source": [
    "6\\. Write a program that implements a function $f(x)$ returning the value of $x(x−1)$\n",
    "\n",
    "(a)calculates the derivative of the function at the point $x = 1$ using the derivative definition:\n",
    "\n",
    "$$\n",
    "\\frac{{\\rm d}f}{{\\rm d}x} = \\lim_{\\delta\\to0} \\frac{f(x+\\delta)-f(x)}{\\delta}\n",
    "$$\n",
    "\n",
    "with δ = 10−2. Calculate the true value of the same derivative analytically and compare with the answer your program gives. The two will not agree perfectly. Why not?\n",
    "\n",
    "(b) Repeat the calculation for $\\delta = 10^{−4}, 10^{−6}, 10^{−8}, 10^{−10}, 10^{−12}$ and $10^{−14}$. How does the accuracy scales with $\\delta$?"
   ]
  },
  {
   "cell_type": "markdown",
   "metadata": {},
   "source": [
    "7\\. Calculate the integral"
   ]
  },
  {
   "cell_type": "code",
   "execution_count": null,
   "metadata": {
    "collapsed": true
   },
   "outputs": [],
   "source": []
  }
 ],
 "metadata": {
  "kernelspec": {
   "display_name": "Python 3",
   "language": "python",
   "name": "python3"
  },
  "language_info": {
   "codemirror_mode": {
    "name": "ipython",
    "version": 3
   },
   "file_extension": ".py",
   "mimetype": "text/x-python",
   "name": "python",
   "nbconvert_exporter": "python",
   "pygments_lexer": "ipython3",
   "version": "3.6.3"
  }
 },
 "nbformat": 4,
 "nbformat_minor": 2
}
