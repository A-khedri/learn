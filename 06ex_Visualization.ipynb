{
 "cells": [
  {
   "cell_type": "markdown",
   "metadata": {},
   "source": [
    "1\\. **Kernel Density Estimate**\n",
    "\n",
    "Produce a KDE for a given distribution (by hand, not using seaborn!):\n",
    "\n",
    "* Fill a numpy array, x,  of len(N) (with N=O(100)) with a variable normally distributed, with a given mean a standard deviation\n",
    "* Fill an histogram in pyplot taking properly care about the aesthetic\n",
    "   * use a meaningful number of bins\n",
    "   * set a proper y axis label\n",
    "   * set proper value of y axis major ticks labels (e.g. you want to display only integer labels)\n",
    "   * display the histograms as data points with errors (the error being the poisson uncertainty)\n",
    "* for every element of x, create a gaussian with the mean corresponding the element value and std as a parameter that can be tuned. The std default value should be:\n",
    "$$ 1.06 * x.std() * x.size ^{-\\frac{1}{5.}} $$\n",
    "you can use the scipy function `stats.norm()` for that.\n",
    "* In a separate plot (to be placed beside the original histogram), plot all the gaussian functions so obtained\n",
    "* Sum (with np.sum()) all the gaussian functions and normalize the result such that the integral matches the integral of the original histogram. For that you could use the `scipy.integrate.trapz()` method\n"
   ]
  },
  {
   "cell_type": "code",
   "execution_count": 13,
   "metadata": {},
   "outputs": [
    {
     "data": {
      "text/plain": [
       "(array([ 2.,  1.,  1.,  3.,  1.,  2.,  3.,  8.,  7.,  6., 15.,  8.,  5.,\n",
       "         7.,  3., 14.,  3.,  5.,  3.,  3.]),\n",
       " array([-0.26263413, -0.24039765, -0.21816117, -0.19592469, -0.17368821,\n",
       "        -0.15145174, -0.12921526, -0.10697878, -0.0847423 , -0.06250583,\n",
       "        -0.04026935, -0.01803287,  0.00420361,  0.02644008,  0.04867656,\n",
       "         0.07091304,  0.09314952,  0.115386  ,  0.13762247,  0.15985895,\n",
       "         0.18209543]),\n",
       " <a list of 20 Patch objects>)"
      ]
     },
     "execution_count": 13,
     "metadata": {},
     "output_type": "execute_result"
    },
    {
     "data": {
      "image/png": "[encoded data removed]",
      "text/plain": [
       "<Figure size 432x288 with 1 Axes>"
      ]
     },
     "metadata": {},
     "output_type": "display_data"
    }
   ],
   "source": [
    "import numpy as np\n",
    "import matplotlib.pyplot as plt\n",
    "%matplotlib inline\n",
    "u=0\n",
    "std=0.1\n",
    "X=np.random.normal(u,std,100)\n",
    "plt.hist(X,20)  #bins, y axis ??\n",
    "\n"
   ]
  },
  {
   "cell_type": "markdown",
   "metadata": {},
   "source": [
    "2\\. **Color-coded scatter plot**\n",
    "\n",
    "Produce a scatter plot out of a dataset with two categories\n",
    "\n",
    "* Write a function that generate a 2D datasets of 2 categories. Each category should distribute as a 2D gaussian with a given mean and std (clearly it is better to have different values means..)\n",
    "* Display the dataset in a scatter plot marking the two categories with different marker colors.\n",
    "\n",
    "An example is given below\n",
    "\n",
    "You can try to make the procedure more general by allowing a given number $n\\ge 2$ of categories"
   ]
  },
  {
   "cell_type": "code",
   "execution_count": 23,
   "metadata": {},
   "outputs": [
    {
     "name": "stdout",
     "output_type": "stream",
     "text": [
      "--2018-11-27 15:22:02--  https://www.dropbox.com/s/u4y3k4kk5tc7j46/two_categories_scatter_plot.png\n",
      "Resolving www.dropbox.com (www.dropbox.com)... 162.125.69.1, 2620:100:6025:1::a27d:4501\n",
      "Connecting to www.dropbox.com (www.dropbox.com)|162.125.69.1|:443... connected.\n",
      "HTTP request sent, awaiting response... 301 Moved Permanently\n",
      "Location: /s/raw/u4y3k4kk5tc7j46/two_categories_scatter_plot.png [following]\n",
      "--2018-11-27 15:22:02--  https://www.dropbox.com/s/raw/u4y3k4kk5tc7j46/two_categories_scatter_plot.png\n",
      "Reusing existing connection to www.dropbox.com:443.\n",
      "HTTP request sent, awaiting response... 302 Found\n",
      "Location: https://uc18ddea59604572a0d5e0fc5e52.dl.dropboxusercontent.com/cd/0/inline/AWY9CVE1uevIaAIjVEMOjlF8cOlNqb9x3JF_1FhEOEeM9BJQLiYPx1QDi8bFQR0hlPgWfSZkCWoSH5KkALHu4We57QJhyu8zFjF_6uIdb7Rw3MSl-6TQEzzI8RYVMhOGTUGYTmijSbjUb0DCgclCzb-G0OMK3zImWYGxjtjRPL1GYtJHW1vSzqIZrsxr1qdThf0/file [following]\n",
      "--2018-11-27 15:22:02--  https://uc18ddea59604572a0d5e0fc5e52.dl.dropboxusercontent.com/cd/0/inline/AWY9CVE1uevIaAIjVEMOjlF8cOlNqb9x3JF_1FhEOEeM9BJQLiYPx1QDi8bFQR0hlPgWfSZkCWoSH5KkALHu4We57QJhyu8zFjF_6uIdb7Rw3MSl-6TQEzzI8RYVMhOGTUGYTmijSbjUb0DCgclCzb-G0OMK3zImWYGxjtjRPL1GYtJHW1vSzqIZrsxr1qdThf0/file\n",
      "Resolving uc18ddea59604572a0d5e0fc5e52.dl.dropboxusercontent.com (uc18ddea59604572a0d5e0fc5e52.dl.dropboxusercontent.com)... 162.125.69.6, 2620:100:6025:6::a27d:4506\n",
      "Connecting to uc18ddea59604572a0d5e0fc5e52.dl.dropboxusercontent.com (uc18ddea59604572a0d5e0fc5e52.dl.dropboxusercontent.com)|162.125.69.6|:443... connected.\n",
      "HTTP request sent, awaiting response... 200 OK\n",
      "Length: 43828 (43K) [image/png]\n",
      "Saving to: ‘two_categories_scatter_plot.png.10’\n",
      "\n",
      "two_categories_scat 100%[===================>]  42.80K  --.-KB/s    in 0.008s  \n",
      "\n",
      "2018-11-27 15:22:03 (5.35 MB/s) - ‘two_categories_scatter_plot.png.10’ saved [43828/43828]\n",
      "\n"
     ]
    },
    {
     "data": {
      "text/plain": [
       "<matplotlib.collections.PathCollection at 0x7f1be52e05c0>"
      ]
     },
     "execution_count": 23,
     "metadata": {},
     "output_type": "execute_result"
    },
    {
     "data": {
      "image/png": "[encoded data removed]",
      "text/plain": [
       "<Figure size 432x288 with 1 Axes>"
      ]
     },
     "metadata": {},
     "output_type": "display_data"
    }
   ],
   "source": [
    "! wget https://www.dropbox.com/s/u4y3k4kk5tc7j46/two_categories_scatter_plot.png\n",
    "from IPython.display import Image\n",
    "Image('two_categories_scatter_plot.png')\n",
    "u=0\n",
    "std=0.5\n",
    "u1=1\n",
    "std1=0.25\n",
    "X=np.random.normal(u,std,100)\n",
    "Y=np.random.normal(u,std1,100)\n",
    "\n",
    "X1=np.random.normal(u1,std1,100)\n",
    "Y1=np.random.normal(u1,std1,100)\n",
    "plt.scatter(X,Y, marker='o', c='r')\n",
    "plt.scatter(X1,Y1,marker='o', c='y')"
   ]
  },
  {
   "cell_type": "markdown",
   "metadata": {},
   "source": [
    "3\\. **Profile plot**\n",
    "\n",
    "Produce a profile plot from a scatter plot.\n",
    "* Download the following dataset and load it as a pandas dataframe:\n",
    "```bash\n",
    "wget https://www.dropbox.com/s/hgnvyj9abatk8g6/residuals_261.npy\n",
    "```\n",
    "Note that you should you the `np.load()` function to load the file as a numpy array and then pass it to the `pd.DataFrame()` constructor.\n",
    "* Inspect the dataset, you'll find two variables (features)\n",
    "* Clean the sample by selecting the entries (rows) with the variable \"residual\" in absolute value smaller than 2\n",
    "* perform a linear regression of \"residuals\" versus \"distances\" using `scipy.stats.linregress()` \n",
    "* plot a seaborn jointplot of  \"residuals\" versus \"distances\", having seaborn performing a linear regression. The result of the regression should be displayed on the plot\n",
    "* Fill 3 numpy arrays\n",
    "  * x, serving as an array of bin centers for the \"distance\" variable. It should range from 0 to 20 with reasonable number of steps (bins)\n",
    "  * y, the mean values of the \"residuals\", estimated in slices (bins) of \"distance\"\n",
    "  * erry, the standard deviation of the  of the \"residuals\", estimated in slices (bins) of \"distance\"\n",
    "* Plot the profile plot on top of the scatter plot"
   ]
  },
  {
   "cell_type": "code",
   "execution_count": 77,
   "metadata": {},
   "outputs": [],
   "source": [
    "import pandas as pd\n",
    "#file=np.load('residuals_261.npy')\n",
    "#rint(file)\n",
    "#file.view()\n",
    "#type(file)\n",
    "data =np.load('residuals_261.npy')\n",
    "\n",
    "#pd.DataFrame(data)\n",
    "#a = data[1]\n",
    "\n",
    "    "
   ]
  },
  {
   "cell_type": "code",
   "execution_count": null,
   "metadata": {},
   "outputs": [],
   "source": []
  },
  {
   "cell_type": "code",
   "execution_count": null,
   "metadata": {
    "collapsed": true
   },
   "outputs": [],
   "source": []
  }
 ],
 "metadata": {
  "kernelspec": {
   "display_name": "Python 3",
   "language": "python",
   "name": "python3"
  },
  "language_info": {
   "codemirror_mode": {
    "name": "ipython",
    "version": 3
   },
   "file_extension": ".py",
   "mimetype": "text/x-python",
   "name": "python",
   "nbconvert_exporter": "python",
   "pygments_lexer": "ipython3",
   "version": "3.6.3"
  }
 },
 "nbformat": 4,
 "nbformat_minor": 2
}
