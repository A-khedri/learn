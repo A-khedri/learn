{
 "cells": [
  {
   "cell_type": "markdown",
   "metadata": {},
   "source": [
    "### Numpy basics"
   ]
  },
  {
   "cell_type": "markdown",
   "metadata": {},
   "source": [
    "1\\. Find the row, column and overall means for the following matrix:\n",
    "\n",
    "```python\n",
    "m = np.arange(12).reshape((3,4))\n",
    "```"
   ]
  },
  {
   "cell_type": "code",
   "execution_count": 2,
   "metadata": {},
   "outputs": [
    {
     "name": "stdout",
     "output_type": "stream",
     "text": [
      "m [[ 0  1  2  3]\n",
      " [ 4  5  6  7]\n",
      " [ 8  9 10 11]] \n",
      "\n",
      "column mean [ 4.  5.  6.  7.] \n",
      "\n",
      "row mean [ 1.5  5.5  9.5] \n",
      "\n",
      "m mean 5.5\n"
     ]
    }
   ],
   "source": [
    "import numpy as np\n",
    "m = np.arange(12).reshape((3,4))\n",
    "print('m',m,'\\n')\n",
    "print('column mean',np.mean(m,axis=0),'\\n')\n",
    "print('row mean',np.mean(m,axis=1),'\\n')\n",
    "print('m mean',np.mean(m))\n"
   ]
  },
  {
   "cell_type": "markdown",
   "metadata": {},
   "source": [
    "2\\. Find the outer product of the following two vecotrs\n",
    "\n",
    "```python\n",
    "u = np.array([1,3,5,7])\n",
    "v = np.array([2,4,6,8])\n",
    "```\n",
    "\n",
    "Do this in the following ways:\n",
    "\n",
    "   * Using the function outer in numpy\n",
    "   * Using a nested for loop or list comprehension\n",
    "   * Using numpy broadcasting operatoins\n"
   ]
  },
  {
   "cell_type": "code",
   "execution_count": 11,
   "metadata": {},
   "outputs": [
    {
     "name": "stdout",
     "output_type": "stream",
     "text": [
      "[[ 2  4  6  8]\n",
      " [ 6 12 18 24]\n",
      " [10 20 30 40]\n",
      " [14 28 42 56]] \n",
      "\n",
      "[[  2.   4.   6.   8.]\n",
      " [  6.  12.  18.  24.]\n",
      " [ 10.  20.  30.  40.]\n",
      " [ 14.  28.  42.  56.]]\n"
     ]
    }
   ],
   "source": [
    "u = np.array([1,3,5,7])\n",
    "v = np.array([2,4,6,8])\n",
    "Produit=np.outer(u,v)\n",
    "print(Produit,'\\n')\n",
    "\n",
    "L=np.zeros((len(u),len(v)))\n",
    "for i in range(4):\n",
    "    L[:,i]=u*v[i]\n",
    "    \n",
    "print(L)\n",
    "\n"
   ]
  },
  {
   "cell_type": "markdown",
   "metadata": {},
   "source": [
    "3\\. Create a 10 by 6 matrix of random uniform numbers. Set all rows with any entry less than 0.1 to be zero\n",
    "\n",
    "Hint: Use the following numpy functions - np.random.random, np.any as well as Boolean indexing and the axis argument."
   ]
  },
  {
   "cell_type": "code",
   "execution_count": 21,
   "metadata": {},
   "outputs": [
    {
     "name": "stdout",
     "output_type": "stream",
     "text": [
      "[[ 0.98941655  0.17224448  0.79655152  0.37270437  0.86030474  0.08829104]\n",
      " [ 0.47931821  0.63674573  0.37124835  0.21658965  0.12622468  0.28682651]\n",
      " [ 0.71142769  0.01720971  0.02142121  0.45333068  0.43557976  0.41159223]\n",
      " [ 0.8983092   0.82678318  0.46246773  0.49760443  0.09034013  0.25823095]\n",
      " [ 0.45255839  0.30252059  0.03107353  0.46877341  0.74822504  0.13804432]\n",
      " [ 0.78704745  0.01216211  0.92805071  0.29282678  0.00847245  0.73554156]\n",
      " [ 0.20393821  0.54931411  0.9072789   0.50634455  0.62871224  0.42866715]\n",
      " [ 0.84247277  0.8558674   0.48430393  0.02497651  0.96449955  0.6293577 ]\n",
      " [ 0.32250973  0.31229768  0.21888243  0.04250588  0.36003941  0.82390934]\n",
      " [ 0.88409416  0.90461515  0.39125398  0.77544411  0.81352852  0.52838374]]\n",
      "[ True False  True  True  True  True False  True  True False]\n",
      "[[ 0.          0.          0.          0.          0.          0.        ]\n",
      " [ 0.47931821  0.63674573  0.37124835  0.21658965  0.12622468  0.28682651]\n",
      " [ 0.          0.          0.          0.          0.          0.        ]\n",
      " [ 0.          0.          0.          0.          0.          0.        ]\n",
      " [ 0.          0.          0.          0.          0.          0.        ]\n",
      " [ 0.          0.          0.          0.          0.          0.        ]\n",
      " [ 0.20393821  0.54931411  0.9072789   0.50634455  0.62871224  0.42866715]\n",
      " [ 0.          0.          0.          0.          0.          0.        ]\n",
      " [ 0.          0.          0.          0.          0.          0.        ]\n",
      " [ 0.88409416  0.90461515  0.39125398  0.77544411  0.81352852  0.52838374]]\n"
     ]
    }
   ],
   "source": [
    "import numpy.random as npr\n",
    "M=npr.random((10,6))\n",
    "print(M)\n",
    "\n",
    "mask=np.any(M<0.1, axis=1)\n",
    "print(mask)\n",
    "M[mask]=0\n",
    "print(M)\n",
    "\n",
    "\n",
    "\n",
    "\n"
   ]
  },
  {
   "cell_type": "markdown",
   "metadata": {},
   "source": [
    "4\\. Use np.linspace to create an array of 100 numbers between 0 and 2π (includsive).\n",
    "\n",
    "  * Extract every 10th element using slice notation\n",
    "  * Reverse the array using slice notation\n",
    "  * Extract elements where the absolute difference between the sine and cosine functions evaluated at that element is less than 0.1\n",
    "  * Make a plot showing the sin and cos functions and indicate where they are close"
   ]
  },
  {
   "cell_type": "code",
   "execution_count": 39,
   "metadata": {},
   "outputs": [
    {
     "name": "stdout",
     "output_type": "stream",
     "text": [
      "[ 0.          0.06346652  0.12693304  0.19039955  0.25386607  0.31733259\n",
      "  0.38079911  0.44426563  0.50773215  0.57119866  0.63466518  0.6981317\n",
      "  0.76159822  0.82506474  0.88853126  0.95199777  1.01546429  1.07893081\n",
      "  1.14239733  1.20586385  1.26933037  1.33279688  1.3962634   1.45972992\n",
      "  1.52319644  1.58666296  1.65012947  1.71359599  1.77706251  1.84052903\n",
      "  1.90399555  1.96746207  2.03092858  2.0943951   2.15786162  2.22132814\n",
      "  2.28479466  2.34826118  2.41172769  2.47519421  2.53866073  2.60212725\n",
      "  2.66559377  2.72906028  2.7925268   2.85599332  2.91945984  2.98292636\n",
      "  3.04639288  3.10985939  3.17332591  3.23679243  3.30025895  3.36372547\n",
      "  3.42719199  3.4906585   3.55412502  3.61759154  3.68105806  3.74452458\n",
      "  3.8079911   3.87145761  3.93492413  3.99839065  4.06185717  4.12532369\n",
      "  4.1887902   4.25225672  4.31572324  4.37918976  4.44265628  4.5061228\n",
      "  4.56958931  4.63305583  4.69652235  4.75998887  4.82345539  4.88692191\n",
      "  4.95038842  5.01385494  5.07732146  5.14078798  5.2042545   5.26772102\n",
      "  5.33118753  5.39465405  5.45812057  5.52158709  5.58505361  5.64852012\n",
      "  5.71198664  5.77545316  5.83891968  5.9023862   5.96585272  6.02931923\n",
      "  6.09278575  6.15625227  6.21971879  6.28318531] \n",
      "\n",
      "[False False False False False False False False False False False False\n",
      "  True  True False False False False False False False False False False\n",
      " False False False False False False False False False False False False\n",
      " False False False False False False False False False False False False\n",
      " False False False False False False False False False False False False\n",
      " False  True  True False False False False False False False False False\n",
      " False False False False False False False False False False False False\n",
      " False False False False False False False False False False False False\n",
      " False False False False] \n",
      "\n",
      "[ 0.76159822  0.82506474  3.87145761  3.93492413]\n"
     ]
    },
    {
     "data": {
      "text/plain": [
       "[<matplotlib.lines.Line2D at 0x7fe7a03c0048>]"
      ]
     },
     "execution_count": 39,
     "metadata": {},
     "output_type": "execute_result"
    },
    {
     "data": {
      "image/png": "[encoded data removed]",
      "text/plain": [
       "<matplotlib.figure.Figure at 0x7fe7a0381048>"
      ]
     },
     "metadata": {},
     "output_type": "display_data"
    }
   ],
   "source": [
    "Nb=np.linspace(0,2*np.pi,100)\n",
    "print(Nb,'\\n')\n",
    "S=Nb[9::10]\n",
    "#print(S,'\\n')\n",
    "\n",
    "R=Nb[::-1]\n",
    "#print(R,'\\n')\n",
    "\n",
    "mask=(np.absolute(np.sin(Nb)-np.cos(Nb))<0.1)\n",
    "print(mask,'\\n')\n",
    "\n",
    "Filt_Nb=Nb[mask]\n",
    "print(Filt_Nb)\n",
    "idx=np.where(np.absolute(np.sin(Nb)-np.cos(Nb))<0.1)\n",
    "\n",
    "\n",
    "import matplotlib.pyplot as plt \n",
    "\n",
    "%matplotlib inline\n",
    "\n",
    "ys =np.sin(Nb) # np.sin is a universal function\n",
    "yc=np.cos(Nb)\n",
    "ycs=np.cos(Nb[idx])\n",
    "plt.plot(Nb, ys)\n",
    "plt.plot(Nb, yc)\n",
    "plt.plot(ycs,'ro')\n"
   ]
  },
  {
   "cell_type": "markdown",
   "metadata": {},
   "source": [
    "5\\. Create a matrix that shows the 10 by 10 multiplication table.\n",
    "\n",
    " * Find the trace of the matrix\n",
    " * Extract the anto-diagonal (this should be ```array([10, 18, 24, 28, 30, 30, 28, 24, 18, 10])```)\n",
    " * Extract the diagnoal offset by 1 upwards (this should be ```array([ 2,  6, 12, 20, 30, 42, 56, 72, 90])```)"
   ]
  },
  {
   "cell_type": "markdown",
   "metadata": {},
   "source": [
    "6\\. Use broadcasting to create a grid of distances\n",
    "\n",
    "Route 66 crosses the following cities in the US: Chicago, Springfield, Saint-Louis, Tulsa, Oklahoma City, Amarillo, Santa Fe, Albuquerque, Flagstaff, Los Angeles\n",
    "The corresponding positions in miles are: 0, 198, 303, 736, 871, 1175, 1475, 1544, 1913, 2448\n",
    "\n",
    "  * Construct a 2D grid of distances among each city along Route 66\n",
    "  * Convert that in km (those savages...)"
   ]
  },
  {
   "cell_type": "markdown",
   "metadata": {},
   "source": [
    "7\\. Prime numbers sieve: compute the prime numbers in the 0-N (N=99 to start with) range with a sieve (mask).\n",
    "  * Constract a shape (100,) boolean array, the mask\n",
    "  * Identify the multiples of each number starting from 2 and set accordingly the corresponding mask element\n",
    "  * Apply the mask to obtain an array of ordered prime numbers\n",
    "  * Check the performances (timeit); how does it scale with N?\n",
    "  * Implement the optimization suggested in the [sieve of Eratosthenes](https://en.wikipedia.org/wiki/Sieve_of_Eratosthenes)"
   ]
  },
  {
   "cell_type": "markdown",
   "metadata": {},
   "source": [
    "8\\. Diffusion using random walk\n",
    "\n",
    "Consider a simple random walk process: at each step in time, a walker jumps right or left (+1 or -1) with equal probability. The goal is to find the typical distance from the origin of a random walker after a given amount of time. \n",
    "To do that, let's simulate many walkers and create a 2D array with each walker as a raw and the actual time evolution as columns\n",
    "\n",
    "  * Take 1000 walkers and let them walk for 200 steps\n",
    "  * Use randint to create a 2D array of size walkers x steps with values -1 or 1\n",
    "  * Build the actual walking distances for each walker (i.e. another 2D array \"summing on each raw\")\n",
    "  * Take the square of that 2D array (elementwise)\n",
    "  * Compute the mean of the squared distances at each step (i.e. the mean along the columns)\n",
    "  * Plot the average distances (sqrt(distance\\*\\*2)) as a function of time (step)\n",
    "  \n",
    "Did you get what you expected?"
   ]
  },
  {
   "cell_type": "markdown",
   "metadata": {},
   "source": [
    "9\\. Analyze a data file \n",
    "  * Download the population of hares, lynxes and carrots at the beginning of the last century.\n",
    "    ```python\n",
    "    ! wget https://www.dropbox.com/s/3vigxoqayo389uc/populations.txt\n",
    "    ```\n",
    "\n",
    "  * Check the content by looking within the file\n",
    "  * Load the data (use an appropriate numpy method) into a 2D array\n",
    "  * Create arrays out of the columns, the arrays being (in order): *year*, *hares*, *lynxes*, *carrots* \n",
    "  * Plot the 3 populations over the years\n",
    "  * Compute the main statistical properties of the dataset (mean, std, correlations, etc.)\n",
    "  * Which species has the highest population each year?\n",
    "\n",
    "Do you feel there is some evident correlation here? [Studies](https://www.enr.gov.nt.ca/en/services/lynx/lynx-snowshoe-hare-cycle) tend to believe so."
   ]
  },
  {
   "cell_type": "code",
   "execution_count": null,
   "metadata": {
    "collapsed": true
   },
   "outputs": [],
   "source": []
  }
 ],
 "metadata": {
  "kernelspec": {
   "display_name": "Python 3",
   "language": "python",
   "name": "python3"
  },
  "language_info": {
   "codemirror_mode": {
    "name": "ipython",
    "version": 3
   },
   "file_extension": ".py",
   "mimetype": "text/x-python",
   "name": "python",
   "nbconvert_exporter": "python",
   "pygments_lexer": "ipython3",
   "version": "3.6.3"
  }
 },
 "nbformat": 4,
 "nbformat_minor": 2
}
